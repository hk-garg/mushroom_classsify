{
 "cells": [
  {
   "cell_type": "markdown",
   "id": "27abf61e",
   "metadata": {},
   "source": [
    "# Import the libraries"
   ]
  },
  {
   "cell_type": "code",
   "execution_count": 111,
   "id": "7ce31d9e",
   "metadata": {},
   "outputs": [],
   "source": [
    "import numpy as np # linear algebra\n",
    "import pandas as pd # data processing, CSV file I/O (e.g. pd.read_csv)\n",
    "import matplotlib.pyplot as plt\n",
    "import seaborn as sns\n",
    "from sklearn.ensemble import RandomForestClassifier\n",
    "\n",
    "from sklearn.model_selection import train_test_split\n",
    "from sklearn.metrics import confusion_matrix\n",
    "from sklearn.metrics import accuracy_score\n",
    "from sklearn.preprocessing import LabelEncoder\n",
    "from sklearn.svm import SVC\n",
    "from sklearn.neighbors import KNeighborsClassifier\n",
    "from sklearn.linear_model import LogisticRegression\n",
    "from sklearn.naive_bayes import GaussianNB\n",
    "from sklearn.tree import DecisionTreeClassifier\n",
    "from sklearn.metrics import roc_curve\n",
    "from sklearn.metrics import roc_auc_score\n"
   ]
  },
  {
   "cell_type": "markdown",
   "id": "6fb74887",
   "metadata": {},
   "source": [
    "# Data Analysis\n",
    "\n"
   ]
  },
  {
   "cell_type": "code",
   "execution_count": 90,
   "id": "f5dc0da8",
   "metadata": {},
   "outputs": [],
   "source": [
    "data=pd.read_csv('mushrooms.csv') #read the data from mushroom.csv file"
   ]
  },
  {
   "cell_type": "code",
   "execution_count": 91,
   "id": "30eb7fb9",
   "metadata": {},
   "outputs": [
    {
     "data": {
      "text/html": [
       "<div>\n",
       "<style scoped>\n",
       "    .dataframe tbody tr th:only-of-type {\n",
       "        vertical-align: middle;\n",
       "    }\n",
       "\n",
       "    .dataframe tbody tr th {\n",
       "        vertical-align: top;\n",
       "    }\n",
       "\n",
       "    .dataframe thead th {\n",
       "        text-align: right;\n",
       "    }\n",
       "</style>\n",
       "<table border=\"1\" class=\"dataframe\">\n",
       "  <thead>\n",
       "    <tr style=\"text-align: right;\">\n",
       "      <th></th>\n",
       "      <th>class</th>\n",
       "      <th>cap-shape</th>\n",
       "      <th>cap-surface</th>\n",
       "      <th>cap-color</th>\n",
       "      <th>bruises</th>\n",
       "      <th>odor</th>\n",
       "      <th>gill-attachment</th>\n",
       "      <th>gill-spacing</th>\n",
       "      <th>gill-size</th>\n",
       "      <th>gill-color</th>\n",
       "      <th>...</th>\n",
       "      <th>stalk-surface-below-ring</th>\n",
       "      <th>stalk-color-above-ring</th>\n",
       "      <th>stalk-color-below-ring</th>\n",
       "      <th>veil-type</th>\n",
       "      <th>veil-color</th>\n",
       "      <th>ring-number</th>\n",
       "      <th>ring-type</th>\n",
       "      <th>spore-print-color</th>\n",
       "      <th>population</th>\n",
       "      <th>habitat</th>\n",
       "    </tr>\n",
       "  </thead>\n",
       "  <tbody>\n",
       "    <tr>\n",
       "      <th>0</th>\n",
       "      <td>p</td>\n",
       "      <td>x</td>\n",
       "      <td>s</td>\n",
       "      <td>n</td>\n",
       "      <td>t</td>\n",
       "      <td>p</td>\n",
       "      <td>f</td>\n",
       "      <td>c</td>\n",
       "      <td>n</td>\n",
       "      <td>k</td>\n",
       "      <td>...</td>\n",
       "      <td>s</td>\n",
       "      <td>w</td>\n",
       "      <td>w</td>\n",
       "      <td>p</td>\n",
       "      <td>w</td>\n",
       "      <td>o</td>\n",
       "      <td>p</td>\n",
       "      <td>k</td>\n",
       "      <td>s</td>\n",
       "      <td>u</td>\n",
       "    </tr>\n",
       "    <tr>\n",
       "      <th>1</th>\n",
       "      <td>e</td>\n",
       "      <td>x</td>\n",
       "      <td>s</td>\n",
       "      <td>y</td>\n",
       "      <td>t</td>\n",
       "      <td>a</td>\n",
       "      <td>f</td>\n",
       "      <td>c</td>\n",
       "      <td>b</td>\n",
       "      <td>k</td>\n",
       "      <td>...</td>\n",
       "      <td>s</td>\n",
       "      <td>w</td>\n",
       "      <td>w</td>\n",
       "      <td>p</td>\n",
       "      <td>w</td>\n",
       "      <td>o</td>\n",
       "      <td>p</td>\n",
       "      <td>n</td>\n",
       "      <td>n</td>\n",
       "      <td>g</td>\n",
       "    </tr>\n",
       "    <tr>\n",
       "      <th>2</th>\n",
       "      <td>e</td>\n",
       "      <td>b</td>\n",
       "      <td>s</td>\n",
       "      <td>w</td>\n",
       "      <td>t</td>\n",
       "      <td>l</td>\n",
       "      <td>f</td>\n",
       "      <td>c</td>\n",
       "      <td>b</td>\n",
       "      <td>n</td>\n",
       "      <td>...</td>\n",
       "      <td>s</td>\n",
       "      <td>w</td>\n",
       "      <td>w</td>\n",
       "      <td>p</td>\n",
       "      <td>w</td>\n",
       "      <td>o</td>\n",
       "      <td>p</td>\n",
       "      <td>n</td>\n",
       "      <td>n</td>\n",
       "      <td>m</td>\n",
       "    </tr>\n",
       "    <tr>\n",
       "      <th>3</th>\n",
       "      <td>p</td>\n",
       "      <td>x</td>\n",
       "      <td>y</td>\n",
       "      <td>w</td>\n",
       "      <td>t</td>\n",
       "      <td>p</td>\n",
       "      <td>f</td>\n",
       "      <td>c</td>\n",
       "      <td>n</td>\n",
       "      <td>n</td>\n",
       "      <td>...</td>\n",
       "      <td>s</td>\n",
       "      <td>w</td>\n",
       "      <td>w</td>\n",
       "      <td>p</td>\n",
       "      <td>w</td>\n",
       "      <td>o</td>\n",
       "      <td>p</td>\n",
       "      <td>k</td>\n",
       "      <td>s</td>\n",
       "      <td>u</td>\n",
       "    </tr>\n",
       "    <tr>\n",
       "      <th>4</th>\n",
       "      <td>e</td>\n",
       "      <td>x</td>\n",
       "      <td>s</td>\n",
       "      <td>g</td>\n",
       "      <td>f</td>\n",
       "      <td>n</td>\n",
       "      <td>f</td>\n",
       "      <td>w</td>\n",
       "      <td>b</td>\n",
       "      <td>k</td>\n",
       "      <td>...</td>\n",
       "      <td>s</td>\n",
       "      <td>w</td>\n",
       "      <td>w</td>\n",
       "      <td>p</td>\n",
       "      <td>w</td>\n",
       "      <td>o</td>\n",
       "      <td>e</td>\n",
       "      <td>n</td>\n",
       "      <td>a</td>\n",
       "      <td>g</td>\n",
       "    </tr>\n",
       "  </tbody>\n",
       "</table>\n",
       "<p>5 rows × 23 columns</p>\n",
       "</div>"
      ],
      "text/plain": [
       "  class cap-shape cap-surface cap-color bruises odor gill-attachment  \\\n",
       "0     p         x           s         n       t    p               f   \n",
       "1     e         x           s         y       t    a               f   \n",
       "2     e         b           s         w       t    l               f   \n",
       "3     p         x           y         w       t    p               f   \n",
       "4     e         x           s         g       f    n               f   \n",
       "\n",
       "  gill-spacing gill-size gill-color  ... stalk-surface-below-ring  \\\n",
       "0            c         n          k  ...                        s   \n",
       "1            c         b          k  ...                        s   \n",
       "2            c         b          n  ...                        s   \n",
       "3            c         n          n  ...                        s   \n",
       "4            w         b          k  ...                        s   \n",
       "\n",
       "  stalk-color-above-ring stalk-color-below-ring veil-type veil-color  \\\n",
       "0                      w                      w         p          w   \n",
       "1                      w                      w         p          w   \n",
       "2                      w                      w         p          w   \n",
       "3                      w                      w         p          w   \n",
       "4                      w                      w         p          w   \n",
       "\n",
       "  ring-number ring-type spore-print-color population habitat  \n",
       "0           o         p                 k          s       u  \n",
       "1           o         p                 n          n       g  \n",
       "2           o         p                 n          n       m  \n",
       "3           o         p                 k          s       u  \n",
       "4           o         e                 n          a       g  \n",
       "\n",
       "[5 rows x 23 columns]"
      ]
     },
     "execution_count": 91,
     "metadata": {},
     "output_type": "execute_result"
    }
   ],
   "source": [
    "data.head() #show 5 row of the data"
   ]
  },
  {
   "cell_type": "code",
   "execution_count": 92,
   "id": "286a39d0",
   "metadata": {},
   "outputs": [
    {
     "name": "stdout",
     "output_type": "stream",
     "text": [
      "       class cap-shape cap-surface cap-color bruises  odor gill-attachment  \\\n",
      "count   8124      8124        8124      8124    8124  8124            8124   \n",
      "unique     2         6           4        10       2     9               2   \n",
      "top        e         x           y         n       f     n               f   \n",
      "freq    4208      3656        3244      2284    4748  3528            7914   \n",
      "\n",
      "       gill-spacing gill-size gill-color  ... stalk-surface-below-ring  \\\n",
      "count          8124      8124       8124  ...                     8124   \n",
      "unique            2         2         12  ...                        4   \n",
      "top               c         b          b  ...                        s   \n",
      "freq           6812      5612       1728  ...                     4936   \n",
      "\n",
      "       stalk-color-above-ring stalk-color-below-ring veil-type veil-color  \\\n",
      "count                    8124                   8124      8124       8124   \n",
      "unique                      9                      9         1          4   \n",
      "top                         w                      w         p          w   \n",
      "freq                     4464                   4384      8124       7924   \n",
      "\n",
      "       ring-number ring-type spore-print-color population habitat  \n",
      "count         8124      8124              8124       8124    8124  \n",
      "unique           3         5                 9          6       7  \n",
      "top              o         p                 w          v       d  \n",
      "freq          7488      3968              2388       4040    3148  \n",
      "\n",
      "[4 rows x 23 columns]\n"
     ]
    }
   ],
   "source": [
    "#basis overview of the data\n",
    "print(data.describe()) #Here we can see the count, unique values and other information about the data"
   ]
  },
  {
   "cell_type": "code",
   "execution_count": 93,
   "id": "9c2a0890",
   "metadata": {},
   "outputs": [
    {
     "name": "stdout",
     "output_type": "stream",
     "text": [
      "The total number of columns in the data:  23\n",
      "Index(['class', 'cap-shape', 'cap-surface', 'cap-color', 'bruises', 'odor',\n",
      "       'gill-attachment', 'gill-spacing', 'gill-size', 'gill-color',\n",
      "       'stalk-shape', 'stalk-root', 'stalk-surface-above-ring',\n",
      "       'stalk-surface-below-ring', 'stalk-color-above-ring',\n",
      "       'stalk-color-below-ring', 'veil-type', 'veil-color', 'ring-number',\n",
      "       'ring-type', 'spore-print-color', 'population', 'habitat'],\n",
      "      dtype='object')\n",
      "Is there any missing value in the data:  class                       False\n",
      "cap-shape                   False\n",
      "cap-surface                 False\n",
      "cap-color                   False\n",
      "bruises                     False\n",
      "odor                        False\n",
      "gill-attachment             False\n",
      "gill-spacing                False\n",
      "gill-size                   False\n",
      "gill-color                  False\n",
      "stalk-shape                 False\n",
      "stalk-root                  False\n",
      "stalk-surface-above-ring    False\n",
      "stalk-surface-below-ring    False\n",
      "stalk-color-above-ring      False\n",
      "stalk-color-below-ring      False\n",
      "veil-type                   False\n",
      "veil-color                  False\n",
      "ring-number                 False\n",
      "ring-type                   False\n",
      "spore-print-color           False\n",
      "population                  False\n",
      "habitat                     False\n",
      "dtype: bool\n"
     ]
    }
   ],
   "source": [
    "print('The total number of columns in the data: ',len(data.columns))\n",
    "print(data.columns)\n",
    "print('Is there any missing value in the data: ',data.isnull().any())"
   ]
  },
  {
   "cell_type": "code",
   "execution_count": 94,
   "id": "eb37f469",
   "metadata": {},
   "outputs": [
    {
     "name": "stdout",
     "output_type": "stream",
     "text": [
      "['p' 'e']\n",
      "['x' 'b' 's' 'f' 'k' 'c']\n",
      "['s' 'y' 'f' 'g']\n",
      "['n' 'y' 'w' 'g' 'e' 'p' 'b' 'u' 'c' 'r']\n",
      "['t' 'f']\n",
      "['p' 'a' 'l' 'n' 'f' 'c' 'y' 's' 'm']\n",
      "['f' 'a']\n",
      "['c' 'w']\n",
      "['n' 'b']\n",
      "['k' 'n' 'g' 'p' 'w' 'h' 'u' 'e' 'b' 'r' 'y' 'o']\n",
      "['e' 't']\n",
      "['e' 'c' 'b' 'r' '?']\n",
      "['s' 'f' 'k' 'y']\n",
      "['s' 'f' 'y' 'k']\n",
      "['w' 'g' 'p' 'n' 'b' 'e' 'o' 'c' 'y']\n",
      "['w' 'p' 'g' 'b' 'n' 'e' 'y' 'o' 'c']\n",
      "['p']\n",
      "['w' 'n' 'o' 'y']\n",
      "['o' 't' 'n']\n",
      "['p' 'e' 'l' 'f' 'n']\n",
      "['k' 'n' 'u' 'h' 'w' 'r' 'o' 'y' 'b']\n",
      "['s' 'n' 'a' 'v' 'y' 'c']\n",
      "['u' 'g' 'm' 'd' 'p' 'w' 'l']\n"
     ]
    }
   ],
   "source": [
    "#see all the unique values in each columns\n",
    "for col in data:\n",
    "    print(data[col].unique())"
   ]
  },
  {
   "cell_type": "markdown",
   "id": "7a24f505",
   "metadata": {},
   "source": [
    "Here we can see, there are some '?' values in the data, we need to replace them"
   ]
  },
  {
   "cell_type": "code",
   "execution_count": 95,
   "id": "711f570b",
   "metadata": {},
   "outputs": [
    {
     "name": "stdout",
     "output_type": "stream",
     "text": [
      "b    3776\n",
      "?    2480\n",
      "e    1120\n",
      "c     556\n",
      "r     192\n",
      "Name: stalk-root, dtype: int64\n",
      "Name of the column : stalk-root\n"
     ]
    }
   ],
   "source": [
    "print(data.iloc[:,11].value_counts())\n",
    "\n",
    "print(\"Name of the column :\",data.iloc[:,11].value_counts().name)"
   ]
  },
  {
   "cell_type": "markdown",
   "id": "3ccea7fe",
   "metadata": {},
   "source": [
    "Hence this column has anourmus amount of missing data if the form of ? mark, we conclude to drop this column"
   ]
  },
  {
   "cell_type": "code",
   "execution_count": 96,
   "id": "6824da12",
   "metadata": {},
   "outputs": [
    {
     "name": "stdout",
     "output_type": "stream",
     "text": [
      "  class cap-shape cap-surface cap-color bruises odor gill-attachment  \\\n",
      "0     p         x           s         n       t    p               f   \n",
      "1     e         x           s         y       t    a               f   \n",
      "2     e         b           s         w       t    l               f   \n",
      "3     p         x           y         w       t    p               f   \n",
      "4     e         x           s         g       f    n               f   \n",
      "\n",
      "  gill-spacing gill-size gill-color  ... stalk-surface-below-ring  \\\n",
      "0            c         n          k  ...                        s   \n",
      "1            c         b          k  ...                        s   \n",
      "2            c         b          n  ...                        s   \n",
      "3            c         n          n  ...                        s   \n",
      "4            w         b          k  ...                        s   \n",
      "\n",
      "  stalk-color-above-ring stalk-color-below-ring veil-type veil-color  \\\n",
      "0                      w                      w         p          w   \n",
      "1                      w                      w         p          w   \n",
      "2                      w                      w         p          w   \n",
      "3                      w                      w         p          w   \n",
      "4                      w                      w         p          w   \n",
      "\n",
      "  ring-number ring-type spore-print-color population habitat  \n",
      "0           o         p                 k          s       u  \n",
      "1           o         p                 n          n       g  \n",
      "2           o         p                 n          n       m  \n",
      "3           o         p                 k          s       u  \n",
      "4           o         e                 n          a       g  \n",
      "\n",
      "[5 rows x 22 columns]\n"
     ]
    }
   ],
   "source": [
    "data_refined = data.drop(columns=['stalk-root'],axis=1)\n",
    "print(data_refined.head())"
   ]
  },
  {
   "cell_type": "code",
   "execution_count": 97,
   "id": "44ea1e9d",
   "metadata": {},
   "outputs": [],
   "source": [
    "#split the data into features and target\n",
    "data_features = data_refined.iloc[:,1:]\n",
    "data_target = data_refined.iloc[:,0]"
   ]
  },
  {
   "cell_type": "code",
   "execution_count": 98,
   "id": "691e1b10",
   "metadata": {},
   "outputs": [
    {
     "name": "stdout",
     "output_type": "stream",
     "text": [
      "<class 'pandas.core.frame.DataFrame'> (8124, 23)\n"
     ]
    }
   ],
   "source": [
    "print(type(data_features),data.shape)"
   ]
  },
  {
   "cell_type": "markdown",
   "id": "39278468",
   "metadata": {},
   "source": [
    "#convert the categorical data in numeric data using  OneHotEncoder"
   ]
  },
  {
   "cell_type": "code",
   "execution_count": 99,
   "id": "3ede317b",
   "metadata": {},
   "outputs": [],
   "source": [
    "from sklearn.preprocessing import OneHotEncoder\n",
    "data_encoded=pd.get_dummies(data_features,columns=data_features.columns)\n",
    "le = LabelEncoder()\n",
    "target_encoded= le.fit_transform(data_target)"
   ]
  },
  {
   "cell_type": "code",
   "execution_count": 100,
   "id": "9e89bc69",
   "metadata": {},
   "outputs": [
    {
     "name": "stdout",
     "output_type": "stream",
     "text": [
      "   cap-shape_b  cap-shape_c  cap-shape_f  cap-shape_k  cap-shape_s  \\\n",
      "0            0            0            0            0            0   \n",
      "1            0            0            0            0            0   \n",
      "2            1            0            0            0            0   \n",
      "3            0            0            0            0            0   \n",
      "4            0            0            0            0            0   \n",
      "\n",
      "   cap-shape_x  cap-surface_f  cap-surface_g  cap-surface_s  cap-surface_y  \\\n",
      "0            1              0              0              1              0   \n",
      "1            1              0              0              1              0   \n",
      "2            0              0              0              1              0   \n",
      "3            1              0              0              0              1   \n",
      "4            1              0              0              1              0   \n",
      "\n",
      "   ...  population_s  population_v  population_y  habitat_d  habitat_g  \\\n",
      "0  ...             1             0             0          0          0   \n",
      "1  ...             0             0             0          0          1   \n",
      "2  ...             0             0             0          0          0   \n",
      "3  ...             1             0             0          0          0   \n",
      "4  ...             0             0             0          0          1   \n",
      "\n",
      "   habitat_l  habitat_m  habitat_p  habitat_u  habitat_w  \n",
      "0          0          0          0          1          0  \n",
      "1          0          0          0          0          0  \n",
      "2          0          1          0          0          0  \n",
      "3          0          0          0          1          0  \n",
      "4          0          0          0          0          0  \n",
      "\n",
      "[5 rows x 112 columns]\n",
      "(8124, 112)\n",
      "[1 0 0 ... 0 1 0]\n",
      "(8124,)\n"
     ]
    }
   ],
   "source": [
    "print(data_encoded.head())\n",
    "print(data_encoded.shape)\n",
    "print(target_encoded)\n",
    "print(target_encoded.shape)"
   ]
  },
  {
   "cell_type": "markdown",
   "id": "763b1fb8",
   "metadata": {},
   "source": [
    "# Train the data using random forest algorithm"
   ]
  },
  {
   "cell_type": "code",
   "execution_count": 101,
   "id": "5290a3ac",
   "metadata": {},
   "outputs": [],
   "source": [
    "#split the data into train and test with 60:40 ratio\n",
    "x_train,x_test,y_train,y_test=train_test_split(data_encoded,target_encoded,random_state=34,test_size=0.4)"
   ]
  },
  {
   "cell_type": "code",
   "execution_count": 105,
   "id": "3cb883c5",
   "metadata": {},
   "outputs": [],
   "source": [
    "#list of classifiers\n",
    "classifiers = [\n",
    "    SVC(),\n",
    "    LogisticRegression(),\n",
    "    KNeighborsClassifier(),\n",
    "    GaussianNB(),\n",
    "    DecisionTreeClassifier(),\n",
    "    RandomForestClassifier(),\n",
    "    \n",
    "]"
   ]
  },
  {
   "cell_type": "code",
   "execution_count": 107,
   "id": "77f7f960",
   "metadata": {},
   "outputs": [
    {
     "name": "stdout",
     "output_type": "stream",
     "text": [
      "Accuracy of the : SVC() 1.0\n",
      "Accuracy of the : LogisticRegression() 0.9990769230769231\n",
      "Accuracy of the : KNeighborsClassifier() 1.0\n",
      "Accuracy of the : GaussianNB() 0.9843076923076923\n",
      "Accuracy of the : DecisionTreeClassifier() 1.0\n",
      "Accuracy of the : RandomForestClassifier() 1.0\n"
     ]
    }
   ],
   "source": [
    "for classifier in classifiers:\n",
    "    #fit the classifier on data\n",
    "    classifier.fit(x_train,y_train)\n",
    "    #store the prediction in a pred variable\n",
    "    pred = classifier.predict(x_test)\n",
    "    print(\"Accuracy of the :\", classifier,accuracy_score(y_test,pred))\n",
    "    "
   ]
  },
  {
   "cell_type": "code",
   "execution_count": 108,
   "id": "c2a7873e",
   "metadata": {},
   "outputs": [],
   "source": [
    "#Here we can see that SVC, decision tree and RandomForest are perfoming better than other algorithms."
   ]
  },
  {
   "cell_type": "code",
   "execution_count": 109,
   "id": "b9076f68",
   "metadata": {},
   "outputs": [
    {
     "name": "stdout",
     "output_type": "stream",
     "text": [
      "(3250,)\n"
     ]
    }
   ],
   "source": [
    "#choose the best classifier\n",
    "clf_best = RandomForestClassifier()\n",
    "clf_best.fit(x_train,y_train)\n",
    "pred=clf_best.predict(x_test)\n",
    "print(pred.shape)"
   ]
  },
  {
   "cell_type": "markdown",
   "id": "ae05dc9f",
   "metadata": {},
   "source": [
    "# Evaluate the model using confusion_matix, and accuracy_score"
   ]
  },
  {
   "cell_type": "code",
   "execution_count": 112,
   "id": "572fed5a",
   "metadata": {},
   "outputs": [
    {
     "name": "stdout",
     "output_type": "stream",
     "text": [
      "[[1640    0]\n",
      " [   0 1610]]\n",
      "1.0\n",
      "1.0\n"
     ]
    }
   ],
   "source": [
    "print(confusion_matrix(y_test,pred))\n",
    "print(accuracy_score(pred,y_test))\n",
    "print(roc_auc_score(pred,y_test))\n"
   ]
  },
  {
   "cell_type": "markdown",
   "id": "5f93134b",
   "metadata": {},
   "source": [
    "# We got 100% accuracy on this data using RandomForest Classifier.\n",
    "\n"
   ]
  },
  {
   "cell_type": "code",
   "execution_count": 115,
   "id": "1a5728e0",
   "metadata": {},
   "outputs": [],
   "source": [
    "fpr1, tpr1, thresh1 = roc_curve(y_test, pred, pos_label=1)"
   ]
  },
  {
   "cell_type": "code",
   "execution_count": 116,
   "id": "1a7fb880",
   "metadata": {},
   "outputs": [],
   "source": [
    "random_probs = [0 for i in range(len(y_test))]\n",
    "p_fpr, p_tpr, _ = roc_curve(y_test, random_probs, pos_label=1)"
   ]
  },
  {
   "cell_type": "code",
   "execution_count": 117,
   "id": "5f6d1ee1",
   "metadata": {},
   "outputs": [
    {
     "data": {
      "image/png": "[encoded data removed]",
      "text/plain": [
       "<Figure size 576x396 with 1 Axes>"
      ]
     },
     "metadata": {},
     "output_type": "display_data"
    }
   ],
   "source": [
    "import matplotlib.pyplot as plt\n",
    "plt.style.use('seaborn')\n",
    "\n",
    "# plot roc curves\n",
    "plt.plot(fpr1, tpr1, linestyle='--',color='orange', label='Logistic Regression')\n",
    "plt.plot(p_fpr, p_tpr, linestyle='--', color='blue')\n",
    "# title\n",
    "plt.title('ROC curve')\n",
    "# x label\n",
    "plt.xlabel('False Positive Rate')\n",
    "# y label\n",
    "plt.ylabel('True Positive rate')\n",
    "\n",
    "plt.legend(loc='best')\n",
    "plt.savefig('ROC',dpi=300)\n",
    "plt.show();"
   ]
  },
  {
   "cell_type": "code",
   "execution_count": null,
   "id": "582adc03",
   "metadata": {},
   "outputs": [],
   "source": []
  }
 ],
 "metadata": {
  "kernelspec": {
   "display_name": "Python 3",
   "language": "python",
   "name": "python3"
  },
  "language_info": {
   "codemirror_mode": {
    "name": "ipython",
    "version": 3
   },
   "file_extension": ".py",
   "mimetype": "text/x-python",
   "name": "python",
   "nbconvert_exporter": "python",
   "pygments_lexer": "ipython3",
   "version": "3.8.8"
  }
 },
 "nbformat": 4,
 "nbformat_minor": 5
}
